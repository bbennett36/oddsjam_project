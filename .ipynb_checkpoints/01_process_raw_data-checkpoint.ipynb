{
 "cells": [
  {
   "cell_type": "code",
   "execution_count": 1,
   "id": "0b3b1542-fd73-43a4-acfd-890d5d52b752",
   "metadata": {},
   "outputs": [],
   "source": [
    "# Package Imports \n",
    "import glob\n",
    "from pathlib import Path\n",
    "import pandas as pd\n",
    "import json\n",
    "pd.set_option('display.max_rows', None)\n",
    "pd.set_option('display.max_columns', None)"
   ]
  },
  {
   "cell_type": "code",
   "execution_count": 2,
   "id": "0694da34-0a0f-40df-ac06-ddc7274bfaa1",
   "metadata": {},
   "outputs": [
    {
     "name": "stdout",
     "output_type": "stream",
     "text": [
      "(177155, 46)\n"
     ]
    }
   ],
   "source": [
    "# GETTING EV BETS FROM BET TOOLS DATASET\n",
    "\n",
    "tools_dfs = [] \n",
    "for p in Path(\"./betting_tools/\").glob(\"*.json\"):\n",
    "    f = open(p)\n",
    "    js = json.load(f)\n",
    "    js = list(js.values())\n",
    "    temp = pd.json_normalize(js, record_path=['data'])\n",
    "    temp = temp[temp['type'] == 'EDGE']\n",
    "    temp['filename'] = f.name.split('s\\\\')[1].replace('.json', '')\n",
    "    tools_dfs.append(temp)\n",
    "                                                 \n",
    "ev_df = pd.concat(tools_dfs, ignore_index=True)     \n",
    "print(ev_df.shape)\n",
    "ev_df.to_csv('ev_bets.csv', index=False, header=True)"
   ]
  },
  {
   "cell_type": "code",
   "execution_count": 2,
   "id": "2f191415-2a89-4846-bbfd-21ce57805a00",
   "metadata": {},
   "outputs": [
    {
     "data": {
      "text/plain": [
       "(22736146, 28)"
      ]
     },
     "execution_count": 2,
     "metadata": {},
     "output_type": "execute_result"
    }
   ],
   "source": [
    "# GETTING ODDS DATA FROM BET TOOLS DATASET\n",
    "\n",
    "odds_dfs = [] \n",
    "for p in Path(\"./odds/\").glob(\"*.json\"):\n",
    "    f = open(p)\n",
    "    js = json.load(f)\n",
    "    js = list(js.values())\n",
    "    temp = pd.json_normalize(js)\n",
    "    temp['filename'] = f.name.split('s\\\\')[1].replace('.json', '')\n",
    "    odds_dfs.append(temp)\n",
    "                                                 \n",
    "odds_df = pd.concat(odds_dfs, ignore_index=True)     \n",
    "print(odds_df.shape)\n",
    "odds_df.to_csv('odds.csv', index=False, header=True)"
   ]
  },
  {
   "cell_type": "code",
   "execution_count": null,
   "id": "73312d8c-94c9-43a9-bedc-0b851ace5d24",
   "metadata": {},
   "outputs": [],
   "source": [
    "# Freeing up space\n",
    "del odds_dfs\n",
    "del odds_df\n",
    "del tools_dfs\n",
    "del ev_df"
   ]
  },
  {
   "cell_type": "code",
   "execution_count": null,
   "id": "a036743f-fbc1-4a1c-9027-677fd4982ab2",
   "metadata": {},
   "outputs": [],
   "source": []
  }
 ],
 "metadata": {
  "kernelspec": {
   "display_name": "Python 3 (ipykernel)",
   "language": "python",
   "name": "python3"
  },
  "language_info": {
   "codemirror_mode": {
    "name": "ipython",
    "version": 3
   },
   "file_extension": ".py",
   "mimetype": "text/x-python",
   "name": "python",
   "nbconvert_exporter": "python",
   "pygments_lexer": "ipython3",
   "version": "3.9.16"
  }
 },
 "nbformat": 4,
 "nbformat_minor": 5
}
